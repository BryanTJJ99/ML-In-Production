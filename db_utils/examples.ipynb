{
 "cells": [
  {
   "cell_type": "markdown",
   "metadata": {},
   "source": [
    "# Examples for interacting with Database"
   ]
  },
  {
   "cell_type": "code",
   "execution_count": 2,
   "metadata": {},
   "outputs": [],
   "source": [
    "import utils\n",
    "from psycopg2.extras import RealDictCursor"
   ]
  },
  {
   "cell_type": "markdown",
   "metadata": {},
   "source": [
    "### Fetching Movies and Users"
   ]
  },
  {
   "cell_type": "code",
   "execution_count": 5,
   "metadata": {},
   "outputs": [
    {
     "name": "stdout",
     "output_type": "stream",
     "text": [
      "RealDictRow([('id', 'bigger+stronger+faster*+2008'), ('imdb_id', 'tt1151309'), ('tmdb_id', 13636), ('vote_avg', 7.0), ('vote_count', 41), ('title', 'Bigger Stronger Faster*'), ('language', 'en'), ('adult', False), ('genres', ['Documentary']), ('runtime', 105), ('popularity', 6.108182)])\n",
      "\n",
      "RealDictRow([('userid', 28309), ('age', 33), ('occupation', 'executive/managerial'), ('gender', 'M')])\n"
     ]
    }
   ],
   "source": [
    "movieid = \"bigger+stronger+faster*+2008\"\n",
    "userid = 28309\n",
    "\n",
    "'''\n",
    "get_connection() uses your information from your config.py, make sure it is updated\n",
    "\n",
    "TLDR: The stream is taking a long time to catch up to current data so there is not current data\n",
    "in the database yet. There will be soon. For current data pass database=\"current\" to get_connection()\n",
    "'''\n",
    "conn = utils.get_connection() # utils.get_connection(database=\"current\")\n",
    "\n",
    "'''\n",
    "movie and user will be dictionaries with the columns of database as features\n",
    "The fun thing about these commands is they will fetch from the database for you if it exists,\n",
    "and they will request the api (and add to the database!) if it doesn't exist\n",
    "\n",
    "...Unless of course you set commit=False, but don't unless you have a specific reason, thats for the stream\n",
    "'''\n",
    "movie = utils.fetch_movie(conn, movieid)\n",
    "user = utils.fetch_user(conn, userid)\n",
    "print(movie)\n",
    "print()\n",
    "print(user)\n",
    "\n",
    "'''\n",
    "!!!!! REMEMBER TO CLOSE YOUR CONNECTION !!!!!\n",
    "I would handle this for you if I could but I cannot...\n",
    "...not without taking a lot of flexibility anyway\n",
    "'''\n",
    "conn.close()"
   ]
  },
  {
   "cell_type": "markdown",
   "metadata": {},
   "source": [
    "### Running Custom SQL"
   ]
  },
  {
   "cell_type": "code",
   "execution_count": 22,
   "metadata": {},
   "outputs": [],
   "source": [
    "# Get a connection\n",
    "conn = utils.get_connection()"
   ]
  },
  {
   "cell_type": "markdown",
   "metadata": {},
   "source": [
    "#### Ratings Table"
   ]
  },
  {
   "cell_type": "code",
   "execution_count": 23,
   "metadata": {},
   "outputs": [
    {
     "name": "stdout",
     "output_type": "stream",
     "text": [
      "RealDictRow([('datetime', datetime.datetime(2024, 2, 27, 3, 50, 17)), ('userid', 94224), ('movieid', 'the+lion+king+1994'), ('rating', 4)])\n",
      "2024-02-27 03:50:17\n",
      "RealDictRow([('datetime', datetime.datetime(2024, 2, 27, 3, 50, 17)), ('userid', 425733), ('movieid', 'henry+poole+is+here+2008'), ('rating', 4)])\n",
      "471\n",
      "RealDictRow([('userid', 283747), ('movieid', 'boxing+helena+1993'), ('rating', 2)])\n",
      "4\n",
      "473\n"
     ]
    }
   ],
   "source": [
    "'''\n",
    "Ratings table has four columns:\n",
    "datetime\n",
    "userid\n",
    "movieid\n",
    "rating\n",
    "'''\n",
    "# Create a cursor, this will allow you to interact with the database\n",
    "# RealDictCurso will give you return as a dictionary\n",
    "cur = conn.cursor(cursor_factory=RealDictCursor)\n",
    "\n",
    "# Getting all ratings\n",
    "sql = \"SELECT * FROM ratings;\"\n",
    "cur.execute(sql)\n",
    "# Lets grab one from the result and print it\n",
    "first = cur.fetchone()\n",
    "print(first)\n",
    "print(first[\"datetime\"])\n",
    "print(cur.fetchone())\n",
    "\n",
    "# Lets print how many we actually fetched, this command will take more time with larger db\n",
    "print(len(cur.fetchall()))\n",
    "# Notice that this is two less than is what is in the database\n",
    "# Thats because we already fetched two! Keep that in mind.\n",
    "\n",
    "# Now heres an example of a more complicated SQL query that you may use\n",
    "sql = \"SELECT userid, movieid, rating FROM ratings WHERE rating < 3\"\n",
    "cur.execute(sql)\n",
    "print(cur.fetchone())\n",
    "print(len(cur.fetchall()))\n",
    "\n",
    "# Here is an example of getting distinct rows (They should already be distinct buuuuutttttt, can neve be too sure ya know)\n",
    "sql = \"SELECT DISTINCT userid, movieid FROM ratings;\"\n",
    "cur.execute(sql)\n",
    "print(len(cur.fetchall()))"
   ]
  },
  {
   "cell_type": "markdown",
   "metadata": {},
   "source": [
    "#### Views Table"
   ]
  },
  {
   "cell_type": "code",
   "execution_count": 24,
   "metadata": {},
   "outputs": [
    {
     "name": "stdout",
     "output_type": "stream",
     "text": [
      "RealDictRow([('datetime', datetime.datetime(2024, 2, 27, 3, 51, 31)), ('userid', 467414), ('movieid', 'hannibal+rising+2007'), ('watchtime', 1), ('movielength', 121)])\n",
      "27487\n"
     ]
    }
   ],
   "source": [
    "'''\n",
    "Views has 5 columns:\n",
    "datetime\n",
    "userid\n",
    "movieid\n",
    "watchtime\n",
    "movielength\n",
    "\n",
    "This is a brand new table! It records when users request a part of a film.\n",
    "The watchtime is how many minutes they have watched this film.\n",
    "The movielength is how long the film is.\n",
    "Yes, watchtime can (and will in many cases!) be longer than movielength, this means they rewatched!\n",
    "...Or I guess watched the same minute multiple times...Or tried multiple time to get through it and cant\n",
    "Well anyway, recording the exact minute they requested is possible but not clear how to utilize that in a meaningful way so this is what you get. :)\n",
    "'''\n",
    "cur = conn.cursor(cursor_factory=RealDictCursor)\n",
    "sql = \"SELECT * FROM views;\"\n",
    "\n",
    "cur.execute(sql)\n",
    "view = cur.fetchone()\n",
    "print(view)\n",
    "print(len(cur.fetchall()))\n",
    "# This table will have any combination of (userid,movieid) once where the userid requested the movieid, each time after increments watchtime\n"
   ]
  },
  {
   "cell_type": "markdown",
   "metadata": {},
   "source": [
    "### Recommendations Table"
   ]
  },
  {
   "cell_type": "code",
   "execution_count": 25,
   "metadata": {},
   "outputs": [
    {
     "name": "stdout",
     "output_type": "stream",
     "text": [
      "RealDictRow([('datetime', datetime.datetime(2024, 2, 27, 3, 33, 48)), ('userid', 404809), ('server', '17645-team21.isri.cmu.edu:8082'), ('status', 200), ('results', ['the+color+purple+1985', 'hollywoodland+2006', 'dr.+horribles+sing-along+blog+2008', 'the+thin+man+1934', 'pusher+iii+im+the+angel+of+death+2005', 'the+wicker+man+1973', 'michael+1996', '28+days+later+2002', 'metro+1997', 'the+man+who+fell+to+earth+1976', 'petes+dragon+1977', 'punch-drunk+love+2002', 'shampoo+1975', 'robot+jox+1989', 'the+daytrippers+1996', 'dazed+and+confused+1993', 'panic+room+2002', 'vampire+hunter+d+bloodlust+2000', 'in+love+and+war+1996', 'where+the+heart+is+2000']), ('responsetime', 41)])\n",
      "305\n"
     ]
    }
   ],
   "source": [
    "'''\n",
    "The Recommendations Table has 6 columns:\n",
    "datetime\n",
    "userid\n",
    "server\n",
    "status\n",
    "results\n",
    "responsetime\n",
    "\n",
    "These are all pretty self explanatory. The main reason to query this table would be in combination with views to see if the user watched something we recommended.\n",
    "'''\n",
    "\n",
    "cur = conn.cursor(cursor_factory=RealDictCursor)\n",
    "sql = \"SELECT * FROM recommendations;\"\n",
    "\n",
    "cur.execute(sql)\n",
    "rec = cur.fetchone()\n",
    "print(rec)\n",
    "print(len(cur.fetchall()))"
   ]
  },
  {
   "cell_type": "code",
   "execution_count": 26,
   "metadata": {},
   "outputs": [],
   "source": [
    "'''\n",
    "!!!!! Don't Forget, Your Computer WILL Explode (Not really, but don't forget) !!!!!\n",
    "'''\n",
    "conn.close()"
   ]
  },
  {
   "cell_type": "markdown",
   "metadata": {},
   "source": [
    "### Querying Monitoring"
   ]
  },
  {
   "cell_type": "code",
   "execution_count": 2,
   "metadata": {},
   "outputs": [],
   "source": [
    "from prometheus_api_client import PrometheusConnect\n",
    "from datetime import datetime, timedelta"
   ]
  },
  {
   "cell_type": "markdown",
   "metadata": {},
   "source": [
    "### Example of how to get even and odd averages"
   ]
  },
  {
   "cell_type": "code",
   "execution_count": 7,
   "metadata": {},
   "outputs": [
    {
     "name": "stdout",
     "output_type": "stream",
     "text": [
      "Even Avg: 3.3537682789651293\n",
      "Odd Avg: 3.3286180631120783\n"
     ]
    },
    {
     "data": {
      "text/plain": [
       "(None, None)"
      ]
     },
     "execution_count": 7,
     "metadata": {},
     "output_type": "execute_result"
    }
   ],
   "source": [
    "prom_url = \"http://128.2.205.122:9090\"\n",
    "prom = PrometheusConnect(url=prom_url)\n",
    "# Calculate start and end time\n",
    "end_time = datetime.now().replace(microsecond=0)  # Current time\n",
    "start_time = end_time - timedelta(days=1)  # One day ago\n",
    "start_time_str = start_time.isoformat() + 'Z'\n",
    "end_time_str = end_time.isoformat() + 'Z'\n",
    "even = prom.custom_query_range(query=\"histogram_quantile(0.5, sum by(le) (rate(even_rating_bucket[1h])))\", start_time=start_time, end_time=end_time, step='1d')\n",
    "odd = prom.custom_query_range(query=\"histogram_quantile(0.5, sum by(le) (rate(odd_rating_bucket[1h])))\", start_time=start_time, end_time=end_time, step='1d')\n",
    "print(\"Even Avg:\",float(even[0]['values'][0][1])), print(\"Odd Avg:\",float(odd[0]['values'][0][1]))"
   ]
  },
  {
   "cell_type": "code",
   "execution_count": 3,
   "metadata": {},
   "outputs": [
    {
     "data": {
      "text/plain": [
       "[]"
      ]
     },
     "execution_count": 3,
     "metadata": {},
     "output_type": "execute_result"
    }
   ],
   "source": [
    "# If we have hits this should get them, seperated by model\n",
    "prom_url = \"http://128.2.205.122:9090\"\n",
    "prom = PrometheusConnect(url=prom_url)\n",
    "# Calculate start and end time\n",
    "end_time = datetime.now().replace(microsecond=0)  # Current time\n",
    "start_time = end_time - timedelta(days=1)  # One day ago\n",
    "start_time_str = start_time.isoformat() + 'Z'\n",
    "end_time_str = end_time.isoformat() + 'Z'\n",
    "data = prom.custom_query_range(query=\"hit_rate_total\", start_time=start_time, end_time=end_time, step='1d')\n",
    "data"
   ]
  },
  {
   "cell_type": "markdown",
   "metadata": {},
   "source": [
    "## The End\n",
    "Reach out with questions!"
   ]
  }
 ],
 "metadata": {
  "kernelspec": {
   "display_name": "aie",
   "language": "python",
   "name": "python3"
  },
  "language_info": {
   "codemirror_mode": {
    "name": "ipython",
    "version": 3
   },
   "file_extension": ".py",
   "mimetype": "text/x-python",
   "name": "python",
   "nbconvert_exporter": "python",
   "pygments_lexer": "ipython3",
   "version": "3.11.8"
  }
 },
 "nbformat": 4,
 "nbformat_minor": 2
}
