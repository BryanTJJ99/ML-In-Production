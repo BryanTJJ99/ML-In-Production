{
 "cells": [
  {
   "cell_type": "code",
   "execution_count": 1,
   "id": "af825766",
   "metadata": {},
   "outputs": [
    {
     "data": {
      "text/html": [
       "<div>\n",
       "<style scoped>\n",
       "    .dataframe tbody tr th:only-of-type {\n",
       "        vertical-align: middle;\n",
       "    }\n",
       "\n",
       "    .dataframe tbody tr th {\n",
       "        vertical-align: top;\n",
       "    }\n",
       "\n",
       "    .dataframe thead th {\n",
       "        text-align: right;\n",
       "    }\n",
       "</style>\n",
       "<table border=\"1\" class=\"dataframe\">\n",
       "  <thead>\n",
       "    <tr style=\"text-align: right;\">\n",
       "      <th></th>\n",
       "      <th>skins+2002</th>\n",
       "      <th>50123</th>\n",
       "      <th>6.0</th>\n",
       "      <th>1</th>\n",
       "      <th>Skins</th>\n",
       "      <th>en</th>\n",
       "      <th>False</th>\n",
       "      <th>{\"Action\", \"Drama\"}</th>\n",
       "      <th>84</th>\n",
       "      <th>0.914404</th>\n",
       "    </tr>\n",
       "  </thead>\n",
       "  <tbody>\n",
       "    <tr>\n",
       "      <th>0</th>\n",
       "      <td>homegrown+1998</td>\n",
       "      <td>17133</td>\n",
       "      <td>5.5</td>\n",
       "      <td>16</td>\n",
       "      <td>Homegrown</td>\n",
       "      <td>en</td>\n",
       "      <td>False</td>\n",
       "      <td>{\"Drama\", \"Action\", \"Comedy\", \"Thriller\", \"Cri...</td>\n",
       "      <td>102</td>\n",
       "      <td>1.840984</td>\n",
       "    </tr>\n",
       "    <tr>\n",
       "      <th>1</th>\n",
       "      <td>how+to+steal+a+million+1966</td>\n",
       "      <td>3001</td>\n",
       "      <td>7.5</td>\n",
       "      <td>133</td>\n",
       "      <td>How to Steal a Million</td>\n",
       "      <td>en</td>\n",
       "      <td>False</td>\n",
       "      <td>{\"Comedy\", \"Crime\", \"Romance\"}</td>\n",
       "      <td>123</td>\n",
       "      <td>12.389626</td>\n",
       "    </tr>\n",
       "    <tr>\n",
       "      <th>2</th>\n",
       "      <td>abbott+and+costello+meet+the+mummy+1955</td>\n",
       "      <td>26661</td>\n",
       "      <td>6.4</td>\n",
       "      <td>25</td>\n",
       "      <td>Abbott and Costello Meet the Mummy</td>\n",
       "      <td>en</td>\n",
       "      <td>False</td>\n",
       "      <td>{\"Comedy\"}</td>\n",
       "      <td>79</td>\n",
       "      <td>4.656016</td>\n",
       "    </tr>\n",
       "    <tr>\n",
       "      <th>3</th>\n",
       "      <td>screamers+1995</td>\n",
       "      <td>9102</td>\n",
       "      <td>6.1</td>\n",
       "      <td>154</td>\n",
       "      <td>Screamers</td>\n",
       "      <td>en</td>\n",
       "      <td>False</td>\n",
       "      <td>{\"Horror\", \"Science Fiction\"}</td>\n",
       "      <td>108</td>\n",
       "      <td>12.758848</td>\n",
       "    </tr>\n",
       "    <tr>\n",
       "      <th>4</th>\n",
       "      <td>heaven+knows_+mr.+allison+1957</td>\n",
       "      <td>37103</td>\n",
       "      <td>6.8</td>\n",
       "      <td>27</td>\n",
       "      <td>Heaven Knows, Mr. Allison</td>\n",
       "      <td>en</td>\n",
       "      <td>False</td>\n",
       "      <td>{\"Adventure\", \"Drama\", \"War\"}</td>\n",
       "      <td>108</td>\n",
       "      <td>3.584126</td>\n",
       "    </tr>\n",
       "  </tbody>\n",
       "</table>\n",
       "</div>"
      ],
      "text/plain": [
       "                                skins+2002  50123  6.0    1  \\\n",
       "0                           homegrown+1998  17133  5.5   16   \n",
       "1              how+to+steal+a+million+1966   3001  7.5  133   \n",
       "2  abbott+and+costello+meet+the+mummy+1955  26661  6.4   25   \n",
       "3                           screamers+1995   9102  6.1  154   \n",
       "4           heaven+knows_+mr.+allison+1957  37103  6.8   27   \n",
       "\n",
       "                                Skins  en  False  \\\n",
       "0                           Homegrown  en  False   \n",
       "1              How to Steal a Million  en  False   \n",
       "2  Abbott and Costello Meet the Mummy  en  False   \n",
       "3                           Screamers  en  False   \n",
       "4           Heaven Knows, Mr. Allison  en  False   \n",
       "\n",
       "                                 {\"Action\", \"Drama\"}   84   0.914404  \n",
       "0  {\"Drama\", \"Action\", \"Comedy\", \"Thriller\", \"Cri...  102   1.840984  \n",
       "1                     {\"Comedy\", \"Crime\", \"Romance\"}  123  12.389626  \n",
       "2                                         {\"Comedy\"}   79   4.656016  \n",
       "3                      {\"Horror\", \"Science Fiction\"}  108  12.758848  \n",
       "4                      {\"Adventure\", \"Drama\", \"War\"}  108   3.584126  "
      ]
     },
     "execution_count": 1,
     "metadata": {},
     "output_type": "execute_result"
    }
   ],
   "source": [
    "import pandas as pd\n",
    "\n",
    "# Load the data\n",
    "data = pd.read_csv('movies.csv')\n",
    "\n",
    "data.head()"
   ]
  },
  {
   "cell_type": "code",
   "execution_count": 2,
   "id": "225a6d92",
   "metadata": {},
   "outputs": [
    {
     "name": "stdout",
     "output_type": "stream",
     "text": [
      "The percentage of entries containing 'en' in the movie language column is: 87.24%\n"
     ]
    }
   ],
   "source": [
    "movie_language = data.iloc[:, 5]\n",
    "\n",
    "# Count entries containing 'en'\n",
    "count_en = movie_language.str.contains('en').sum()\n",
    "\n",
    "# Calculate the percentage\n",
    "percentage_en = (count_en / len(movie_language)) * 100\n",
    "\n",
    "# Print the result\n",
    "print(f\"The percentage of entries containing 'en' in the movie language column is: {percentage_en:.2f}%\")"
   ]
  },
  {
   "cell_type": "code",
   "execution_count": 10,
   "id": "35ed27dd",
   "metadata": {},
   "outputs": [
    {
     "data": {
      "image/png": "[encoded data removed]",
      "text/plain": [
       "<Figure size 640x480 with 1 Axes>"
      ]
     },
     "metadata": {},
     "output_type": "display_data"
    }
   ],
   "source": [
    "import matplotlib.pyplot as plt\n",
    "\n",
    "# Get the frequency of each language\n",
    "language_counts = movie_language.value_counts()\n",
    "\n",
    "# Convert counts to percentages\n",
    "language_percentages = language_counts / language_counts.sum() * 100\n",
    "\n",
    "# Create a bar plot\n",
    "language_percentages.plot(kind='bar')\n",
    "\n",
    "# Show the plot\n",
    "plt.ylabel('Percentage')\n",
    "plt.xlabel('Language')\n",
    "plt.title('Percentage of movies in each language')\n",
    "plt.show()\n"
   ]
  },
  {
   "cell_type": "code",
   "execution_count": null,
   "id": "984136ef",
   "metadata": {},
   "outputs": [],
   "source": []
  }
 ],
 "metadata": {
  "kernelspec": {
   "display_name": "Python 3 (ipykernel)",
   "language": "python",
   "name": "python3"
  },
  "language_info": {
   "codemirror_mode": {
    "name": "ipython",
    "version": 3
   },
   "file_extension": ".py",
   "mimetype": "text/x-python",
   "name": "python",
   "nbconvert_exporter": "python",
   "pygments_lexer": "ipython3",
   "version": "3.11.5"
  }
 },
 "nbformat": 4,
 "nbformat_minor": 5
}
